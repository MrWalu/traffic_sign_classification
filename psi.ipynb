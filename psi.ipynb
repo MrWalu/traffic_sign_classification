{
  "nbformat": 4,
  "nbformat_minor": 0,
  "metadata": {
    "colab": {
      "name": "psi.ipynb",
      "provenance": [],
      "collapsed_sections": [],
      "include_colab_link": true
    },
    "kernelspec": {
      "name": "python3",
      "display_name": "Python 3"
    },
    "language_info": {
      "name": "python"
    },
    "accelerator": "GPU"
  },
  "cells": [
    {
      "cell_type": "markdown",
      "metadata": {
        "id": "view-in-github",
        "colab_type": "text"
      },
      "source": [
        "<a href=\"https://colab.research.google.com/github/MrWalu/traffic_sign_classification/blob/main/psi.ipynb\" target=\"_parent\"><img src=\"https://colab.research.google.com/assets/colab-badge.svg\" alt=\"Open In Colab\"/></a>"
      ]
    },
    {
      "cell_type": "code",
      "execution_count": null,
      "metadata": {
        "id": "wi7yhLI1WtxW"
      },
      "outputs": [],
      "source": [
        "import tensorflow as tf\n",
        "import pandas as pd\n",
        "import numpy as np\n",
        "import matplotlib.pyplot as plt\n",
        "from PIL import Image\n",
        "import pathlib\n",
        "import os\n",
        "import cv2\n",
        "import sklearn.model_selection as ms\n",
        "from tensorflow import keras\n",
        "from tensorflow.keras import utils\n",
        "from tensorflow.keras.optimizers import Adam\n",
        "#from tensorflow.keras.utils import np_utils\n",
        "from tensorflow.keras.preprocessing.image import load_img, ImageDataGenerator, img_to_array, array_to_img, load_img\n",
        "from sklearn.metrics import accuracy_score\n",
        "from sklearn.model_selection import train_test_split\n",
        "from google.colab import files\n",
        "from tensorflow.keras.utils import to_categorical\n",
        "from keras.layers import Conv2D, MaxPool2D, Dense, Flatten, Dropout\n",
        "from keras.models import Sequential"
      ]
    },
    {
      "cell_type": "code",
      "source": [
        "from google.colab import drive\n",
        "drive.mount('/content/drive/')"
      ],
      "metadata": {
        "colab": {
          "base_uri": "https://localhost:8080/"
        },
        "id": "IlB5UGLv_FGC",
        "outputId": "61bf3a66-809d-44e4-8800-6438c65270f2"
      },
      "execution_count": null,
      "outputs": [
        {
          "output_type": "stream",
          "name": "stdout",
          "text": [
            "Mounted at /content/drive/\n"
          ]
        }
      ]
    },
    {
      "cell_type": "code",
      "source": [
        "test = pd.read_csv(\"/content/drive/MyDrive/ColabNotebooks/PSI/Meta.csv\")\n",
        "test.shape"
      ],
      "metadata": {
        "id": "hgxliJesSHW_",
        "colab": {
          "base_uri": "https://localhost:8080/"
        },
        "outputId": "95ac50ed-46d3-4279-e7b0-df6f9d00eb12"
      },
      "execution_count": null,
      "outputs": [
        {
          "output_type": "execute_result",
          "data": {
            "text/plain": [
              "(43, 5)"
            ]
          },
          "metadata": {},
          "execution_count": 11
        }
      ]
    },
    {
      "cell_type": "code",
      "source": [
        "test2 = pd.read_csv(\"/content/drive/MyDrive/ColabNotebooks/PSI/Test.csv\")\n",
        "test2.shape"
      ],
      "metadata": {
        "id": "obXCC2ykkOeu",
        "colab": {
          "base_uri": "https://localhost:8080/"
        },
        "outputId": "14f71434-79fb-4d6e-a90a-9edbf9fb3385"
      },
      "execution_count": null,
      "outputs": [
        {
          "output_type": "execute_result",
          "data": {
            "text/plain": [
              "(12630, 8)"
            ]
          },
          "metadata": {},
          "execution_count": 12
        }
      ]
    },
    {
      "cell_type": "code",
      "source": [
        "test3 = pd.read_csv(\"/content/drive/MyDrive/ColabNotebooks/PSI/Train.csv\")\n",
        "test3.shape"
      ],
      "metadata": {
        "id": "marG2GPzkOwK",
        "colab": {
          "base_uri": "https://localhost:8080/"
        },
        "outputId": "ed1bef55-a159-4597-e98a-70875684ab54"
      },
      "execution_count": null,
      "outputs": [
        {
          "output_type": "execute_result",
          "data": {
            "text/plain": [
              "(39209, 8)"
            ]
          },
          "metadata": {},
          "execution_count": 13
        }
      ]
    },
    {
      "cell_type": "code",
      "source": [
        "height = 30\n",
        "width = 30\n",
        "channels = 3\n",
        "types = 43"
      ],
      "metadata": {
        "id": "bNVlN2MHkIIX"
      },
      "execution_count": null,
      "outputs": []
    },
    {
      "cell_type": "code",
      "source": [
        "data_dir = '/content/drive/MyDrive/ColabNotebooks/PSI'\n",
        "train_path = '/content/drive/MyDrive/ColabNotebooks/PSI/Train'\n",
        "test_path = '/content/drive/MyDrive/ColabNotebooks/PSI'"
      ],
      "metadata": {
        "id": "HrIbl5wukH5i"
      },
      "execution_count": null,
      "outputs": []
    },
    {
      "cell_type": "code",
      "source": [
        "def load_data(data_dir):\n",
        "   \n",
        "    images = list()\n",
        "    labels = list()\n",
        "    for category in range(types):\n",
        "        categories = os.path.join(data_dir, str(category))\n",
        "        for img in os.listdir(categories):\n",
        "            img = load_img(os.path.join(categories, img), target_size=(30, 30))\n",
        "            image = img_to_array(img)\n",
        "            images.append(image)\n",
        "            labels.append(category)\n",
        "    \n",
        "    return images, labels"
      ],
      "metadata": {
        "id": "Sd21GSnzkHZY"
      },
      "execution_count": null,
      "outputs": []
    },
    {
      "cell_type": "markdown",
      "source": [
        "**Architecture 1**"
      ],
      "metadata": {
        "id": "c9nUwNd11-zq"
      }
    },
    {
      "cell_type": "code",
      "source": [
        "images, labels = load_data(train_path)\n",
        "\n",
        "# One hot encoding the labels\n",
        "labels = to_categorical(labels)\n",
        "\n",
        "X_train, X_test, y_train, y_test = train_test_split(np.array(images), labels, test_size=0.2)\n",
        "X_train = X_train.astype('float32')\n",
        "X_test = X_test.astype('float32')\n",
        "X_train = X_train/255 \n",
        "X_test = X_test/255\n",
        "\n",
        "print(\"X_train.shape\", X_train.shape)\n",
        "print(\"X_test.shape\", X_test.shape)\n",
        "print(\"y_train.shape\", y_train.shape)\n",
        "print(\"y_test.shape\", y_test.shape)"
      ],
      "metadata": {
        "id": "Y56CcDDohcU6",
        "colab": {
          "base_uri": "https://localhost:8080/"
        },
        "outputId": "9153c9f4-564e-4a0d-f74d-de3683fd30b3"
      },
      "execution_count": null,
      "outputs": [
        {
          "output_type": "stream",
          "name": "stdout",
          "text": [
            "X_train.shape (31378, 30, 30, 3)\n",
            "X_test.shape (7845, 30, 30, 3)\n",
            "y_train.shape (31378, 43)\n",
            "y_test.shape (7845, 43)\n"
          ]
        }
      ]
    },
    {
      "cell_type": "code",
      "source": [
        "model = tf.keras.Sequential()\n",
        "model.add(tf.keras.layers.Conv2D(filters=32, kernel_size=5, activation='relu', input_shape=[height, width, channels]))\n",
        "model.add(tf.keras.layers.Conv2D(filters=32, kernel_size=3, activation='relu'))\n",
        "model.add(tf.keras.layers.MaxPool2D(pool_size=2, strides=2))\n",
        "model.add(tf.keras.layers.Dropout(0.3))\n",
        "model.add(tf.keras.layers.BatchNormalization())\n",
        "\n",
        "model.add(tf.keras.layers.Conv2D(filters=64, kernel_size=3, activation='relu'))\n",
        "model.add(tf.keras.layers.MaxPool2D(2,2))\n",
        "model.add(tf.keras.layers.Dropout(0.3))\n",
        "model.add(tf.keras.layers.BatchNormalization())\n",
        "\n",
        "model.add(tf.keras.layers.Conv2D(filters=128, kernel_size=3, activation='relu'))\n",
        "model.add(tf.keras.layers.MaxPool2D(2,2))\n",
        "model.add(tf.keras.layers.Dropout(0.3))\n",
        "model.add(tf.keras.layers.BatchNormalization())\n",
        "\n",
        "model.add(tf.keras.layers.Flatten())\n",
        "model.add(tf.keras.layers.Dense(units=types, activation='relu'))\n",
        "model.add(tf.keras.layers.Dense(types, activation='softmax'))\n",
        "\n",
        "model.summary()"
      ],
      "metadata": {
        "id": "D6m_GPEBIXEC",
        "colab": {
          "base_uri": "https://localhost:8080/"
        },
        "outputId": "f80f3d84-46fd-406e-9727-5c6c3799929b"
      },
      "execution_count": null,
      "outputs": [
        {
          "output_type": "stream",
          "name": "stdout",
          "text": [
            "Model: \"sequential_1\"\n",
            "_________________________________________________________________\n",
            " Layer (type)                Output Shape              Param #   \n",
            "=================================================================\n",
            " conv2d_4 (Conv2D)           (None, 26, 26, 32)        2432      \n",
            "                                                                 \n",
            " conv2d_5 (Conv2D)           (None, 24, 24, 32)        9248      \n",
            "                                                                 \n",
            " max_pooling2d_3 (MaxPooling  (None, 12, 12, 32)       0         \n",
            " 2D)                                                             \n",
            "                                                                 \n",
            " dropout_3 (Dropout)         (None, 12, 12, 32)        0         \n",
            "                                                                 \n",
            " batch_normalization_3 (Batc  (None, 12, 12, 32)       128       \n",
            " hNormalization)                                                 \n",
            "                                                                 \n",
            " conv2d_6 (Conv2D)           (None, 10, 10, 64)        18496     \n",
            "                                                                 \n",
            " max_pooling2d_4 (MaxPooling  (None, 5, 5, 64)         0         \n",
            " 2D)                                                             \n",
            "                                                                 \n",
            " dropout_4 (Dropout)         (None, 5, 5, 64)          0         \n",
            "                                                                 \n",
            " batch_normalization_4 (Batc  (None, 5, 5, 64)         256       \n",
            " hNormalization)                                                 \n",
            "                                                                 \n",
            " conv2d_7 (Conv2D)           (None, 3, 3, 128)         73856     \n",
            "                                                                 \n",
            " max_pooling2d_5 (MaxPooling  (None, 1, 1, 128)        0         \n",
            " 2D)                                                             \n",
            "                                                                 \n",
            " dropout_5 (Dropout)         (None, 1, 1, 128)         0         \n",
            "                                                                 \n",
            " batch_normalization_5 (Batc  (None, 1, 1, 128)        512       \n",
            " hNormalization)                                                 \n",
            "                                                                 \n",
            " flatten_1 (Flatten)         (None, 128)               0         \n",
            "                                                                 \n",
            " dense_2 (Dense)             (None, 43)                5547      \n",
            "                                                                 \n",
            " dense_3 (Dense)             (None, 43)                1892      \n",
            "                                                                 \n",
            "=================================================================\n",
            "Total params: 112,367\n",
            "Trainable params: 111,919\n",
            "Non-trainable params: 448\n",
            "_________________________________________________________________\n"
          ]
        }
      ]
    },
    {
      "cell_type": "code",
      "source": [
        "model.compile(loss='categorical_crossentropy', optimizer = 'adam', metrics=['accuracy'])"
      ],
      "metadata": {
        "id": "H0rI4hFJwL0r"
      },
      "execution_count": null,
      "outputs": []
    },
    {
      "cell_type": "code",
      "source": [
        "history = model.fit(X_train, \n",
        "                    y_train, \n",
        "                    validation_data=(X_test, y_test), \n",
        "                    epochs=50,\n",
        "                    batch_size=32)"
      ],
      "metadata": {
        "id": "PyCGLmjewL_o",
        "colab": {
          "base_uri": "https://localhost:8080/"
        },
        "outputId": "2c5e7b71-40b8-4b74-ca4c-8973da594426"
      },
      "execution_count": null,
      "outputs": [
        {
          "output_type": "stream",
          "name": "stdout",
          "text": [
            "Epoch 1/50\n",
            "981/981 [==============================] - 92s 93ms/step - loss: 1.8064 - accuracy: 0.4928 - val_loss: 0.5626 - val_accuracy: 0.8395\n",
            "Epoch 2/50\n",
            "981/981 [==============================] - 87s 89ms/step - loss: 0.4429 - accuracy: 0.8595 - val_loss: 0.2009 - val_accuracy: 0.9407\n",
            "Epoch 3/50\n",
            "981/981 [==============================] - 85s 87ms/step - loss: 0.2829 - accuracy: 0.9105 - val_loss: 0.0804 - val_accuracy: 0.9759\n",
            "Epoch 4/50\n",
            "981/981 [==============================] - 87s 89ms/step - loss: 0.2177 - accuracy: 0.9314 - val_loss: 0.0663 - val_accuracy: 0.9823\n",
            "Epoch 5/50\n",
            "981/981 [==============================] - 86s 88ms/step - loss: 0.1867 - accuracy: 0.9406 - val_loss: 0.0495 - val_accuracy: 0.9833\n",
            "Epoch 6/50\n",
            "981/981 [==============================] - 85s 87ms/step - loss: 0.1599 - accuracy: 0.9501 - val_loss: 0.0724 - val_accuracy: 0.9786\n",
            "Epoch 7/50\n",
            "981/981 [==============================] - 87s 88ms/step - loss: 0.1481 - accuracy: 0.9531 - val_loss: 0.0440 - val_accuracy: 0.9860\n",
            "Epoch 8/50\n",
            "981/981 [==============================] - 89s 91ms/step - loss: 0.1408 - accuracy: 0.9558 - val_loss: 0.0315 - val_accuracy: 0.9906\n",
            "Epoch 9/50\n",
            "981/981 [==============================] - 87s 88ms/step - loss: 0.1252 - accuracy: 0.9604 - val_loss: 0.0321 - val_accuracy: 0.9903\n",
            "Epoch 10/50\n",
            "981/981 [==============================] - 85s 87ms/step - loss: 0.1190 - accuracy: 0.9631 - val_loss: 0.0367 - val_accuracy: 0.9890\n",
            "Epoch 11/50\n",
            "981/981 [==============================] - 87s 89ms/step - loss: 0.1085 - accuracy: 0.9656 - val_loss: 0.0375 - val_accuracy: 0.9893\n",
            "Epoch 12/50\n",
            "981/981 [==============================] - 86s 88ms/step - loss: 0.1089 - accuracy: 0.9647 - val_loss: 0.0216 - val_accuracy: 0.9936\n",
            "Epoch 13/50\n",
            "981/981 [==============================] - 87s 89ms/step - loss: 0.1041 - accuracy: 0.9672 - val_loss: 0.0229 - val_accuracy: 0.9922\n",
            "Epoch 14/50\n",
            "981/981 [==============================] - 86s 88ms/step - loss: 0.0919 - accuracy: 0.9711 - val_loss: 0.0285 - val_accuracy: 0.9897\n",
            "Epoch 15/50\n",
            "981/981 [==============================] - 88s 90ms/step - loss: 0.0931 - accuracy: 0.9711 - val_loss: 0.0181 - val_accuracy: 0.9949\n",
            "Epoch 16/50\n",
            "981/981 [==============================] - 86s 88ms/step - loss: 0.0874 - accuracy: 0.9720 - val_loss: 0.0227 - val_accuracy: 0.9935\n",
            "Epoch 17/50\n",
            "981/981 [==============================] - 87s 89ms/step - loss: 0.0829 - accuracy: 0.9734 - val_loss: 0.0190 - val_accuracy: 0.9935\n",
            "Epoch 18/50\n",
            "981/981 [==============================] - 86s 88ms/step - loss: 0.0863 - accuracy: 0.9730 - val_loss: 0.0202 - val_accuracy: 0.9934\n",
            "Epoch 19/50\n",
            "981/981 [==============================] - 87s 89ms/step - loss: 0.0777 - accuracy: 0.9756 - val_loss: 0.0196 - val_accuracy: 0.9934\n",
            "Epoch 20/50\n",
            "981/981 [==============================] - 86s 88ms/step - loss: 0.0737 - accuracy: 0.9768 - val_loss: 0.0207 - val_accuracy: 0.9936\n",
            "Epoch 21/50\n",
            "981/981 [==============================] - 88s 89ms/step - loss: 0.0770 - accuracy: 0.9743 - val_loss: 0.0201 - val_accuracy: 0.9939\n",
            "Epoch 22/50\n",
            "981/981 [==============================] - 86s 87ms/step - loss: 0.0782 - accuracy: 0.9767 - val_loss: 0.0127 - val_accuracy: 0.9963\n",
            "Epoch 23/50\n",
            "981/981 [==============================] - 88s 89ms/step - loss: 0.0690 - accuracy: 0.9777 - val_loss: 0.0144 - val_accuracy: 0.9954\n",
            "Epoch 24/50\n",
            "981/981 [==============================] - 86s 88ms/step - loss: 0.0691 - accuracy: 0.9784 - val_loss: 0.0174 - val_accuracy: 0.9949\n",
            "Epoch 25/50\n",
            "981/981 [==============================] - 88s 90ms/step - loss: 0.0634 - accuracy: 0.9790 - val_loss: 0.0180 - val_accuracy: 0.9945\n",
            "Epoch 26/50\n",
            "981/981 [==============================] - 87s 89ms/step - loss: 0.0634 - accuracy: 0.9800 - val_loss: 0.0134 - val_accuracy: 0.9957\n",
            "Epoch 27/50\n",
            "981/981 [==============================] - 88s 89ms/step - loss: 0.0688 - accuracy: 0.9784 - val_loss: 0.0131 - val_accuracy: 0.9959\n",
            "Epoch 28/50\n",
            "981/981 [==============================] - 86s 88ms/step - loss: 0.0654 - accuracy: 0.9799 - val_loss: 0.0182 - val_accuracy: 0.9941\n",
            "Epoch 29/50\n",
            "981/981 [==============================] - 87s 89ms/step - loss: 0.0634 - accuracy: 0.9803 - val_loss: 0.0140 - val_accuracy: 0.9952\n",
            "Epoch 30/50\n",
            "981/981 [==============================] - 86s 88ms/step - loss: 0.0607 - accuracy: 0.9809 - val_loss: 0.0170 - val_accuracy: 0.9943\n",
            "Epoch 31/50\n",
            "981/981 [==============================] - 88s 90ms/step - loss: 0.0595 - accuracy: 0.9803 - val_loss: 0.0219 - val_accuracy: 0.9921\n",
            "Epoch 32/50\n",
            "981/981 [==============================] - 87s 88ms/step - loss: 0.0602 - accuracy: 0.9804 - val_loss: 0.0133 - val_accuracy: 0.9944\n",
            "Epoch 33/50\n",
            "981/981 [==============================] - 88s 90ms/step - loss: 0.0598 - accuracy: 0.9812 - val_loss: 0.0142 - val_accuracy: 0.9953\n",
            "Epoch 34/50\n",
            "981/981 [==============================] - 87s 88ms/step - loss: 0.0569 - accuracy: 0.9818 - val_loss: 0.0144 - val_accuracy: 0.9953\n",
            "Epoch 35/50\n",
            "981/981 [==============================] - 88s 89ms/step - loss: 0.0561 - accuracy: 0.9830 - val_loss: 0.0153 - val_accuracy: 0.9957\n",
            "Epoch 36/50\n",
            "981/981 [==============================] - 86s 88ms/step - loss: 0.0549 - accuracy: 0.9824 - val_loss: 0.0114 - val_accuracy: 0.9968\n",
            "Epoch 37/50\n",
            "981/981 [==============================] - 89s 90ms/step - loss: 0.0553 - accuracy: 0.9825 - val_loss: 0.0117 - val_accuracy: 0.9963\n",
            "Epoch 38/50\n",
            "981/981 [==============================] - 87s 88ms/step - loss: 0.0503 - accuracy: 0.9836 - val_loss: 0.0146 - val_accuracy: 0.9959\n",
            "Epoch 39/50\n",
            "981/981 [==============================] - 88s 89ms/step - loss: 0.0544 - accuracy: 0.9827 - val_loss: 0.0113 - val_accuracy: 0.9962\n",
            "Epoch 40/50\n",
            "981/981 [==============================] - 86s 88ms/step - loss: 0.0494 - accuracy: 0.9853 - val_loss: 0.0113 - val_accuracy: 0.9962\n",
            "Epoch 41/50\n",
            "981/981 [==============================] - 88s 90ms/step - loss: 0.0497 - accuracy: 0.9849 - val_loss: 0.0104 - val_accuracy: 0.9957\n",
            "Epoch 42/50\n",
            "981/981 [==============================] - 86s 88ms/step - loss: 0.0540 - accuracy: 0.9824 - val_loss: 0.0141 - val_accuracy: 0.9955\n",
            "Epoch 43/50\n",
            "981/981 [==============================] - 88s 90ms/step - loss: 0.0511 - accuracy: 0.9837 - val_loss: 0.0123 - val_accuracy: 0.9966\n",
            "Epoch 44/50\n",
            "981/981 [==============================] - 86s 88ms/step - loss: 0.0534 - accuracy: 0.9833 - val_loss: 0.0139 - val_accuracy: 0.9952\n",
            "Epoch 45/50\n",
            "981/981 [==============================] - 88s 90ms/step - loss: 0.0445 - accuracy: 0.9856 - val_loss: 0.0115 - val_accuracy: 0.9967\n",
            "Epoch 46/50\n",
            "981/981 [==============================] - 87s 88ms/step - loss: 0.0453 - accuracy: 0.9859 - val_loss: 0.0087 - val_accuracy: 0.9980\n",
            "Epoch 47/50\n",
            "981/981 [==============================] - 88s 90ms/step - loss: 0.0493 - accuracy: 0.9847 - val_loss: 0.0100 - val_accuracy: 0.9969\n",
            "Epoch 48/50\n",
            "981/981 [==============================] - 87s 88ms/step - loss: 0.0430 - accuracy: 0.9864 - val_loss: 0.0123 - val_accuracy: 0.9962\n",
            "Epoch 49/50\n",
            "981/981 [==============================] - 89s 91ms/step - loss: 0.0434 - accuracy: 0.9857 - val_loss: 0.0076 - val_accuracy: 0.9972\n",
            "Epoch 50/50\n",
            "981/981 [==============================] - 87s 89ms/step - loss: 0.0520 - accuracy: 0.9839 - val_loss: 0.0127 - val_accuracy: 0.9958\n"
          ]
        }
      ]
    },
    {
      "cell_type": "code",
      "source": [
        "loss, accuracy = model.evaluate(X_test, y_test)\n",
        "\n",
        "print('test set accuracy: ', accuracy * 100)"
      ],
      "metadata": {
        "colab": {
          "base_uri": "https://localhost:8080/"
        },
        "id": "b3fz_taSD9rM",
        "outputId": "c2fb4d85-6866-4a9d-d3a9-6d2140353b69"
      },
      "execution_count": null,
      "outputs": [
        {
          "output_type": "stream",
          "name": "stdout",
          "text": [
            "246/246 [==============================] - 6s 26ms/step - loss: 0.0127 - accuracy: 0.9958\n",
            "test set accuracy:  99.57935214042664\n"
          ]
        }
      ]
    },
    {
      "cell_type": "code",
      "source": [
        "test = pd.read_csv(data_dir + '/Test.csv')\n",
        "\n",
        "labels = test[\"ClassId\"].values\n",
        "imgs = test[\"Path\"].values\n",
        "\n",
        "data =[]\n",
        "\n",
        "for img in imgs:\n",
        "    try:\n",
        "        image = cv2.imread(data_dir + '/' +img)\n",
        "        image_fromarray = Image.fromarray(image, 'RGB')\n",
        "        resize_image = image_fromarray.resize((height, width))\n",
        "        data.append(np.array(resize_image))\n",
        "    except:\n",
        "        print(\"Error in \" + img)\n",
        "X_test = np.array(data)\n",
        "X_test = X_test/255\n",
        "\n",
        "pred = np.argmax(model.predict(X_test), axis=1)\n",
        "\n",
        "#Accuracy with the test data\n",
        "print('Test Data accuracy: ',accuracy_score(labels, pred)*100)"
      ],
      "metadata": {
        "colab": {
          "base_uri": "https://localhost:8080/"
        },
        "id": "iLrYobnqYZbC",
        "outputId": "418acc98-d2c6-4490-9fef-886e915f869e"
      },
      "execution_count": null,
      "outputs": [
        {
          "output_type": "stream",
          "name": "stdout",
          "text": [
            "Test Data accuracy:  75.67695961995248\n"
          ]
        }
      ]
    },
    {
      "cell_type": "code",
      "source": [
        "accuracy = history.history['accuracy']\n",
        "val_accuracy = history.history['val_accuracy']\n",
        "\n",
        "loss=history.history['loss']\n",
        "val_loss=history.history['val_loss']\n",
        "\n",
        "epochs_range = range(50)\n",
        "\n",
        "plt.figure(figsize=(8, 8))\n",
        "plt.subplot(1, 2, 1)\n",
        "plt.plot(epochs_range, accuracy, label='Training Accuracy')\n",
        "plt.plot(epochs_range, val_accuracy, label='Validation Accuracy')\n",
        "plt.legend(loc='lower right')\n",
        "plt.title('Training and Validation Accuracy')\n",
        "\n",
        "plt.subplot(1, 2, 2)\n",
        "plt.plot(epochs_range, loss, label='Training Loss')\n",
        "plt.plot(epochs_range, val_loss, label='Validation Loss')\n",
        "plt.legend(loc='upper right')\n",
        "plt.title('Training and Validation Loss')\n",
        "plt.show()"
      ],
      "metadata": {
        "id": "aQE-aMmHwMI-",
        "colab": {
          "base_uri": "https://localhost:8080/",
          "height": 499
        },
        "outputId": "5c7a782f-7f22-4e5b-e45e-4416f4eeb68f"
      },
      "execution_count": null,
      "outputs": [
        {
          "output_type": "display_data",
          "data": {
            "text/plain": [
              "<Figure size 576x576 with 2 Axes>"
            ],
            "image/png": "[encoded data removed]"
          },
          "metadata": {
            "needs_background": "light"
          }
        }
      ]
    },
    {
      "cell_type": "markdown",
      "source": [
        "**Architecture 2** "
      ],
      "metadata": {
        "id": "0I6wn3FQ14Vj"
      }
    },
    {
      "cell_type": "code",
      "source": [
        "images, labels = load_data(train_path)\n",
        "\n",
        "# One hot encoding the labels\n",
        "labels = to_categorical(labels)\n",
        "\n",
        "X_train, X_test, y_train, y_test = train_test_split(np.array(images), labels, test_size=0.4)\n",
        "X_train = X_train.astype('float32')\n",
        "X_test = X_test.astype('float32')\n",
        "X_train = X_train/255 \n",
        "X_test = X_test/255\n",
        "\n",
        "print(\"X_train.shape\", X_train.shape)\n",
        "print(\"X_test.shape\", X_test.shape)\n",
        "print(\"y_train.shape\", y_train.shape)\n",
        "print(\"y_test.shape\", y_test.shape)"
      ],
      "metadata": {
        "colab": {
          "base_uri": "https://localhost:8080/"
        },
        "id": "rB1heaHd1Vga",
        "outputId": "c09ce411-036d-4627-e2cf-cc746bea8678"
      },
      "execution_count": null,
      "outputs": [
        {
          "output_type": "stream",
          "name": "stdout",
          "text": [
            "X_train.shape (23533, 30, 30, 3)\n",
            "X_test.shape (15690, 30, 30, 3)\n",
            "y_train.shape (23533, 43)\n",
            "y_test.shape (15690, 43)\n"
          ]
        }
      ]
    },
    {
      "cell_type": "code",
      "source": [
        "model2 = tf.keras.Sequential()\n",
        "model2.add(tf.keras.layers.Conv2D(filters=32, kernel_size=5, activation='relu', input_shape=[height, width, channels]))\n",
        "model2.add(tf.keras.layers.Conv2D(filters=32, kernel_size=3, activation='relu'))\n",
        "model2.add(tf.keras.layers.MaxPool2D(pool_size=2, strides=2))\n",
        "model2.add(tf.keras.layers.Dropout(0.2))\n",
        "model2.add(tf.keras.layers.BatchNormalization())\n",
        "\n",
        "model2.add(tf.keras.layers.Conv2D(filters=32, kernel_size=3, activation='relu'))\n",
        "model2.add(tf.keras.layers.MaxPool2D(2,2))\n",
        "model2.add(tf.keras.layers.Dropout(0.2))\n",
        "model2.add(tf.keras.layers.BatchNormalization())\n",
        "\n",
        "model2.add(tf.keras.layers.Conv2D(filters=32, kernel_size=3, activation='relu'))\n",
        "model2.add(tf.keras.layers.MaxPool2D(2,2))\n",
        "model2.add(tf.keras.layers.Dropout(0.2))\n",
        "model2.add(tf.keras.layers.BatchNormalization())\n",
        "\n",
        "model2.add(tf.keras.layers.Flatten())\n",
        "model2.add(tf.keras.layers.Dense(units=types, activation='relu'))\n",
        "model2.add(tf.keras.layers.Dense(types, activation='softmax'))\n",
        "\n",
        "model2.summary()"
      ],
      "metadata": {
        "colab": {
          "base_uri": "https://localhost:8080/"
        },
        "id": "dfIs_AWS0skl",
        "outputId": "9d295bc4-8501-4610-bdde-26668ca75b23"
      },
      "execution_count": null,
      "outputs": [
        {
          "output_type": "stream",
          "name": "stdout",
          "text": [
            "Model: \"sequential_1\"\n",
            "_________________________________________________________________\n",
            " Layer (type)                Output Shape              Param #   \n",
            "=================================================================\n",
            " conv2d_4 (Conv2D)           (None, 26, 26, 32)        2432      \n",
            "                                                                 \n",
            " conv2d_5 (Conv2D)           (None, 24, 24, 32)        9248      \n",
            "                                                                 \n",
            " max_pooling2d_3 (MaxPooling  (None, 12, 12, 32)       0         \n",
            " 2D)                                                             \n",
            "                                                                 \n",
            " dropout_3 (Dropout)         (None, 12, 12, 32)        0         \n",
            "                                                                 \n",
            " batch_normalization_3 (Batc  (None, 12, 12, 32)       128       \n",
            " hNormalization)                                                 \n",
            "                                                                 \n",
            " conv2d_6 (Conv2D)           (None, 10, 10, 32)        9248      \n",
            "                                                                 \n",
            " max_pooling2d_4 (MaxPooling  (None, 5, 5, 32)         0         \n",
            " 2D)                                                             \n",
            "                                                                 \n",
            " dropout_4 (Dropout)         (None, 5, 5, 32)          0         \n",
            "                                                                 \n",
            " batch_normalization_4 (Batc  (None, 5, 5, 32)         128       \n",
            " hNormalization)                                                 \n",
            "                                                                 \n",
            " conv2d_7 (Conv2D)           (None, 3, 3, 32)          9248      \n",
            "                                                                 \n",
            " max_pooling2d_5 (MaxPooling  (None, 1, 1, 32)         0         \n",
            " 2D)                                                             \n",
            "                                                                 \n",
            " dropout_5 (Dropout)         (None, 1, 1, 32)          0         \n",
            "                                                                 \n",
            " batch_normalization_5 (Batc  (None, 1, 1, 32)         128       \n",
            " hNormalization)                                                 \n",
            "                                                                 \n",
            " flatten_1 (Flatten)         (None, 32)                0         \n",
            "                                                                 \n",
            " dense_2 (Dense)             (None, 43)                1419      \n",
            "                                                                 \n",
            " dense_3 (Dense)             (None, 43)                1892      \n",
            "                                                                 \n",
            "=================================================================\n",
            "Total params: 33,871\n",
            "Trainable params: 33,679\n",
            "Non-trainable params: 192\n",
            "_________________________________________________________________\n"
          ]
        }
      ]
    },
    {
      "cell_type": "code",
      "source": [
        "model2.compile(loss='categorical_crossentropy', optimizer = 'adam', metrics=['accuracy'])"
      ],
      "metadata": {
        "id": "Js7GBU990snY"
      },
      "execution_count": null,
      "outputs": []
    },
    {
      "cell_type": "code",
      "source": [
        "history = model2.fit(X_train, \n",
        "                    y_train, \n",
        "                    validation_data=(X_test, y_test), \n",
        "                    epochs=30,\n",
        "                    batch_size=32)"
      ],
      "metadata": {
        "colab": {
          "base_uri": "https://localhost:8080/"
        },
        "id": "Yffv6o4p0s3F",
        "outputId": "f7d0f992-c56b-4403-f1a7-bf8b1cdb0bf6"
      },
      "execution_count": null,
      "outputs": [
        {
          "output_type": "stream",
          "name": "stdout",
          "text": [
            "Epoch 1/30\n",
            "736/736 [==============================] - 70s 93ms/step - loss: 2.4441 - accuracy: 0.3232 - val_loss: 1.4376 - val_accuracy: 0.5975\n",
            "Epoch 2/30\n",
            "736/736 [==============================] - 65s 89ms/step - loss: 1.0686 - accuracy: 0.6637 - val_loss: 0.4823 - val_accuracy: 0.8634\n",
            "Epoch 3/30\n",
            "736/736 [==============================] - 68s 92ms/step - loss: 0.6708 - accuracy: 0.7879 - val_loss: 0.2921 - val_accuracy: 0.9198\n",
            "Epoch 4/30\n",
            "736/736 [==============================] - 66s 90ms/step - loss: 0.5076 - accuracy: 0.8377 - val_loss: 0.1819 - val_accuracy: 0.9460\n",
            "Epoch 5/30\n",
            "736/736 [==============================] - 66s 90ms/step - loss: 0.4251 - accuracy: 0.8635 - val_loss: 0.2118 - val_accuracy: 0.9410\n",
            "Epoch 6/30\n",
            "736/736 [==============================] - 64s 87ms/step - loss: 0.3821 - accuracy: 0.8777 - val_loss: 0.1067 - val_accuracy: 0.9707\n",
            "Epoch 7/30\n",
            "736/736 [==============================] - 64s 87ms/step - loss: 0.3421 - accuracy: 0.8894 - val_loss: 0.1320 - val_accuracy: 0.9619\n",
            "Epoch 8/30\n",
            "736/736 [==============================] - 64s 87ms/step - loss: 0.3185 - accuracy: 0.9003 - val_loss: 0.1017 - val_accuracy: 0.9725\n",
            "Epoch 9/30\n",
            "736/736 [==============================] - 65s 88ms/step - loss: 0.2954 - accuracy: 0.9054 - val_loss: 0.0804 - val_accuracy: 0.9768\n",
            "Epoch 10/30\n",
            "736/736 [==============================] - 67s 91ms/step - loss: 0.2867 - accuracy: 0.9076 - val_loss: 0.1096 - val_accuracy: 0.9659\n",
            "Epoch 11/30\n",
            "736/736 [==============================] - 65s 88ms/step - loss: 0.2733 - accuracy: 0.9128 - val_loss: 0.0730 - val_accuracy: 0.9799\n",
            "Epoch 12/30\n",
            "736/736 [==============================] - 64s 87ms/step - loss: 0.2584 - accuracy: 0.9187 - val_loss: 0.0833 - val_accuracy: 0.9771\n",
            "Epoch 13/30\n",
            "736/736 [==============================] - 63s 85ms/step - loss: 0.2502 - accuracy: 0.9206 - val_loss: 0.0890 - val_accuracy: 0.9733\n",
            "Epoch 14/30\n",
            "736/736 [==============================] - 67s 92ms/step - loss: 0.2365 - accuracy: 0.9248 - val_loss: 0.0604 - val_accuracy: 0.9836\n",
            "Epoch 15/30\n",
            "736/736 [==============================] - 65s 88ms/step - loss: 0.2356 - accuracy: 0.9261 - val_loss: 0.0629 - val_accuracy: 0.9822\n",
            "Epoch 16/30\n",
            "736/736 [==============================] - 64s 87ms/step - loss: 0.2247 - accuracy: 0.9301 - val_loss: 0.0562 - val_accuracy: 0.9834\n",
            "Epoch 17/30\n",
            "736/736 [==============================] - 63s 86ms/step - loss: 0.2087 - accuracy: 0.9338 - val_loss: 0.0538 - val_accuracy: 0.9846\n",
            "Epoch 18/30\n",
            "736/736 [==============================] - 64s 88ms/step - loss: 0.2076 - accuracy: 0.9358 - val_loss: 0.0589 - val_accuracy: 0.9824\n",
            "Epoch 19/30\n",
            "736/736 [==============================] - 64s 86ms/step - loss: 0.2073 - accuracy: 0.9349 - val_loss: 0.0644 - val_accuracy: 0.9807\n",
            "Epoch 20/30\n",
            "736/736 [==============================] - 64s 87ms/step - loss: 0.2058 - accuracy: 0.9334 - val_loss: 0.1362 - val_accuracy: 0.9581\n",
            "Epoch 21/30\n",
            "736/736 [==============================] - 63s 86ms/step - loss: 0.1908 - accuracy: 0.9399 - val_loss: 0.0984 - val_accuracy: 0.9700\n",
            "Epoch 22/30\n",
            "736/736 [==============================] - 64s 87ms/step - loss: 0.1905 - accuracy: 0.9411 - val_loss: 0.0460 - val_accuracy: 0.9867\n",
            "Epoch 23/30\n",
            "736/736 [==============================] - 66s 90ms/step - loss: 0.1892 - accuracy: 0.9409 - val_loss: 0.0492 - val_accuracy: 0.9863\n",
            "Epoch 24/30\n",
            "736/736 [==============================] - 64s 88ms/step - loss: 0.1859 - accuracy: 0.9434 - val_loss: 0.0689 - val_accuracy: 0.9797\n",
            "Epoch 25/30\n",
            "736/736 [==============================] - 64s 87ms/step - loss: 0.1790 - accuracy: 0.9440 - val_loss: 0.0372 - val_accuracy: 0.9898\n",
            "Epoch 26/30\n",
            "736/736 [==============================] - 65s 88ms/step - loss: 0.1708 - accuracy: 0.9475 - val_loss: 0.0383 - val_accuracy: 0.9889\n",
            "Epoch 27/30\n",
            "736/736 [==============================] - 67s 91ms/step - loss: 0.1618 - accuracy: 0.9514 - val_loss: 0.0711 - val_accuracy: 0.9816\n",
            "Epoch 28/30\n",
            "736/736 [==============================] - 65s 88ms/step - loss: 0.1655 - accuracy: 0.9464 - val_loss: 0.0624 - val_accuracy: 0.9815\n",
            "Epoch 29/30\n",
            "736/736 [==============================] - 65s 89ms/step - loss: 0.1603 - accuracy: 0.9505 - val_loss: 0.0676 - val_accuracy: 0.9784\n",
            "Epoch 30/30\n",
            "736/736 [==============================] - 65s 89ms/step - loss: 0.1620 - accuracy: 0.9487 - val_loss: 0.0352 - val_accuracy: 0.9890\n"
          ]
        }
      ]
    },
    {
      "cell_type": "code",
      "source": [
        "loss, accuracy = model2.evaluate(X_test, y_test)\n",
        "\n",
        "print('test set accuracy: ', accuracy * 100)"
      ],
      "metadata": {
        "colab": {
          "base_uri": "https://localhost:8080/"
        },
        "id": "9NRqERGh1j-p",
        "outputId": "70a54cb5-e531-460c-8d71-f05d1fbd2e41"
      },
      "execution_count": null,
      "outputs": [
        {
          "output_type": "stream",
          "name": "stdout",
          "text": [
            "491/491 [==============================] - 10s 20ms/step - loss: 0.0352 - accuracy: 0.9890\n",
            "test set accuracy:  98.90376329421997\n"
          ]
        }
      ]
    },
    {
      "cell_type": "code",
      "source": [
        "test = pd.read_csv(data_dir + '/Test.csv')\n",
        "\n",
        "labels = test[\"ClassId\"].values\n",
        "imgs = test[\"Path\"].values\n",
        "\n",
        "data =[]\n",
        "\n",
        "for img in imgs:\n",
        "    try:\n",
        "        image = cv2.imread(data_dir + '/' +img)\n",
        "        image_fromarray = Image.fromarray(image, 'RGB')\n",
        "        resize_image = image_fromarray.resize((height, width))\n",
        "        data.append(np.array(resize_image))\n",
        "    except:\n",
        "        print(\"Error in \" + img)\n",
        "X_test = np.array(data)\n",
        "X_test = X_test/255\n",
        "\n",
        "pred = np.argmax(model2.predict(X_test), axis=1)\n",
        "\n",
        "#Accuracy with the test data\n",
        "print('Test Data accuracy: ',accuracy_score(labels, pred)*100)"
      ],
      "metadata": {
        "id": "Riq504kWmQXJ"
      },
      "execution_count": null,
      "outputs": []
    },
    {
      "cell_type": "code",
      "source": [
        "accuracy = history.history['accuracy']\n",
        "val_accuracy = history.history['val_accuracy']\n",
        "\n",
        "loss=history.history['loss']\n",
        "val_loss=history.history['val_loss']\n",
        "\n",
        "epochs_range = range(30)\n",
        "\n",
        "plt.figure(figsize=(8, 8))\n",
        "plt.subplot(1, 2, 1)\n",
        "plt.plot(epochs_range, accuracy, label='Training Accuracy')\n",
        "plt.plot(epochs_range, val_accuracy, label='Validation Accuracy')\n",
        "plt.legend(loc='lower right')\n",
        "plt.title('Training and Validation Accuracy')\n",
        "\n",
        "plt.subplot(1, 2, 2)\n",
        "plt.plot(epochs_range, loss, label='Training Loss')\n",
        "plt.plot(epochs_range, val_loss, label='Validation Loss')\n",
        "plt.legend(loc='upper right')\n",
        "plt.title('Training and Validation Loss')\n",
        "plt.show()"
      ],
      "metadata": {
        "id": "PpFryidn1p8r"
      },
      "execution_count": null,
      "outputs": []
    },
    {
      "cell_type": "code",
      "source": [
        ""
      ],
      "metadata": {
        "id": "eZF49ot91qJP"
      },
      "execution_count": null,
      "outputs": []
    },
    {
      "cell_type": "code",
      "source": [
        "model2.save(\"model.h5\")"
      ],
      "metadata": {
        "id": "1O986_0xwMOg"
      },
      "execution_count": null,
      "outputs": []
    }
  ]
}